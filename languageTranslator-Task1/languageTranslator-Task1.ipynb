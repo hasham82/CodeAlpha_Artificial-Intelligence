{
 "cells": [
  {
   "cell_type": "code",
   "execution_count": 2,
   "id": "dc17f813-5132-4246-98eb-bdf8be0a5c0a",
   "metadata": {},
   "outputs": [
    {
     "name": "stdout",
     "output_type": "stream",
     "text": [
      "Requirement already satisfied: googletrans==4.0.0-rc1 in c:\\users\\hasha\\anaconda3\\lib\\site-packages (4.0.0rc1)\n",
      "Requirement already satisfied: httpx==0.13.3 in c:\\users\\hasha\\anaconda3\\lib\\site-packages (from googletrans==4.0.0-rc1) (0.13.3)\n",
      "Requirement already satisfied: certifi in c:\\users\\hasha\\anaconda3\\lib\\site-packages (from httpx==0.13.3->googletrans==4.0.0-rc1) (2024.8.30)\n",
      "Requirement already satisfied: hstspreload in c:\\users\\hasha\\anaconda3\\lib\\site-packages (from httpx==0.13.3->googletrans==4.0.0-rc1) (2024.11.1)\n",
      "Requirement already satisfied: sniffio in c:\\users\\hasha\\anaconda3\\lib\\site-packages (from httpx==0.13.3->googletrans==4.0.0-rc1) (1.2.0)\n",
      "Requirement already satisfied: chardet==3.* in c:\\users\\hasha\\anaconda3\\lib\\site-packages (from httpx==0.13.3->googletrans==4.0.0-rc1) (3.0.4)\n",
      "Requirement already satisfied: idna==2.* in c:\\users\\hasha\\anaconda3\\lib\\site-packages (from httpx==0.13.3->googletrans==4.0.0-rc1) (2.10)\n",
      "Requirement already satisfied: rfc3986<2,>=1.3 in c:\\users\\hasha\\anaconda3\\lib\\site-packages (from httpx==0.13.3->googletrans==4.0.0-rc1) (1.5.0)\n",
      "Requirement already satisfied: httpcore==0.9.* in c:\\users\\hasha\\anaconda3\\lib\\site-packages (from httpx==0.13.3->googletrans==4.0.0-rc1) (0.9.1)\n",
      "Requirement already satisfied: h11<0.10,>=0.8 in c:\\users\\hasha\\anaconda3\\lib\\site-packages (from httpcore==0.9.*->httpx==0.13.3->googletrans==4.0.0-rc1) (0.9.0)\n",
      "Requirement already satisfied: h2==3.* in c:\\users\\hasha\\anaconda3\\lib\\site-packages (from httpcore==0.9.*->httpx==0.13.3->googletrans==4.0.0-rc1) (3.2.0)\n",
      "Requirement already satisfied: hyperframe<6,>=5.2.0 in c:\\users\\hasha\\anaconda3\\lib\\site-packages (from h2==3.*->httpcore==0.9.*->httpx==0.13.3->googletrans==4.0.0-rc1) (5.2.0)\n",
      "Requirement already satisfied: hpack<4,>=3.0 in c:\\users\\hasha\\anaconda3\\lib\\site-packages (from h2==3.*->httpcore==0.9.*->httpx==0.13.3->googletrans==4.0.0-rc1) (3.0.0)\n",
      "Requirement already satisfied: SpeechRecognition in c:\\users\\hasha\\anaconda3\\lib\\site-packages (3.11.0)\n",
      "Requirement already satisfied: requests>=2.26.0 in c:\\users\\hasha\\anaconda3\\lib\\site-packages (from SpeechRecognition) (2.32.3)\n",
      "Requirement already satisfied: typing-extensions in c:\\users\\hasha\\anaconda3\\lib\\site-packages (from SpeechRecognition) (4.12.2)\n",
      "Requirement already satisfied: charset-normalizer<4,>=2 in c:\\users\\hasha\\anaconda3\\lib\\site-packages (from requests>=2.26.0->SpeechRecognition) (2.0.4)\n",
      "Requirement already satisfied: idna<4,>=2.5 in c:\\users\\hasha\\anaconda3\\lib\\site-packages (from requests>=2.26.0->SpeechRecognition) (2.10)\n",
      "Requirement already satisfied: urllib3<3,>=1.21.1 in c:\\users\\hasha\\anaconda3\\lib\\site-packages (from requests>=2.26.0->SpeechRecognition) (1.26.18)\n",
      "Requirement already satisfied: certifi>=2017.4.17 in c:\\users\\hasha\\anaconda3\\lib\\site-packages (from requests>=2.26.0->SpeechRecognition) (2024.8.30)\n",
      "Requirement already satisfied: pyttsx3 in c:\\users\\hasha\\anaconda3\\lib\\site-packages (2.98)\n",
      "Requirement already satisfied: comtypes in c:\\users\\hasha\\anaconda3\\lib\\site-packages (from pyttsx3) (1.4.8)\n",
      "Requirement already satisfied: pypiwin32 in c:\\users\\hasha\\anaconda3\\lib\\site-packages (from pyttsx3) (223)\n",
      "Requirement already satisfied: pywin32 in c:\\users\\hasha\\anaconda3\\lib\\site-packages (from pyttsx3) (305.1)\n"
     ]
    }
   ],
   "source": [
    "# Downloading the necessary libraries.\n",
    "\n",
    "!pip install googletrans==4.0.0-rc1\n",
    "!pip install SpeechRecognition\n",
    "!pip install pyttsx3"
   ]
  },
  {
   "cell_type": "code",
   "execution_count": 10,
   "id": "5aac37d2-c295-427a-acb0-f4ec1f5e8374",
   "metadata": {},
   "outputs": [],
   "source": [
    "# Importing the necessary libraries.\n",
    "\n",
    "import tkinter as tk\n",
    "from tkinter import ttk\n",
    "from googletrans import Translator, LANGUAGES"
   ]
  },
  {
   "cell_type": "code",
   "execution_count": 12,
   "id": "dc3226bd-7b05-4e2d-9471-1ea37ddf9960",
   "metadata": {},
   "outputs": [
    {
     "name": "stdout",
     "output_type": "stream",
     "text": [
      "{'af': 'afrikaans', 'sq': 'albanian', 'am': 'amharic', 'ar': 'arabic', 'hy': 'armenian', 'az': 'azerbaijani', 'eu': 'basque', 'be': 'belarusian', 'bn': 'bengali', 'bs': 'bosnian', 'bg': 'bulgarian', 'ca': 'catalan', 'ceb': 'cebuano', 'ny': 'chichewa', 'zh-cn': 'chinese (simplified)', 'zh-tw': 'chinese (traditional)', 'co': 'corsican', 'hr': 'croatian', 'cs': 'czech', 'da': 'danish', 'nl': 'dutch', 'en': 'english', 'eo': 'esperanto', 'et': 'estonian', 'tl': 'filipino', 'fi': 'finnish', 'fr': 'french', 'fy': 'frisian', 'gl': 'galician', 'ka': 'georgian', 'de': 'german', 'el': 'greek', 'gu': 'gujarati', 'ht': 'haitian creole', 'ha': 'hausa', 'haw': 'hawaiian', 'iw': 'hebrew', 'he': 'hebrew', 'hi': 'hindi', 'hmn': 'hmong', 'hu': 'hungarian', 'is': 'icelandic', 'ig': 'igbo', 'id': 'indonesian', 'ga': 'irish', 'it': 'italian', 'ja': 'japanese', 'jw': 'javanese', 'kn': 'kannada', 'kk': 'kazakh', 'km': 'khmer', 'ko': 'korean', 'ku': 'kurdish (kurmanji)', 'ky': 'kyrgyz', 'lo': 'lao', 'la': 'latin', 'lv': 'latvian', 'lt': 'lithuanian', 'lb': 'luxembourgish', 'mk': 'macedonian', 'mg': 'malagasy', 'ms': 'malay', 'ml': 'malayalam', 'mt': 'maltese', 'mi': 'maori', 'mr': 'marathi', 'mn': 'mongolian', 'my': 'myanmar (burmese)', 'ne': 'nepali', 'no': 'norwegian', 'or': 'odia', 'ps': 'pashto', 'fa': 'persian', 'pl': 'polish', 'pt': 'portuguese', 'pa': 'punjabi', 'ro': 'romanian', 'ru': 'russian', 'sm': 'samoan', 'gd': 'scots gaelic', 'sr': 'serbian', 'st': 'sesotho', 'sn': 'shona', 'sd': 'sindhi', 'si': 'sinhala', 'sk': 'slovak', 'sl': 'slovenian', 'so': 'somali', 'es': 'spanish', 'su': 'sundanese', 'sw': 'swahili', 'sv': 'swedish', 'tg': 'tajik', 'ta': 'tamil', 'te': 'telugu', 'th': 'thai', 'tr': 'turkish', 'uk': 'ukrainian', 'ur': 'urdu', 'ug': 'uyghur', 'uz': 'uzbek', 'vi': 'vietnamese', 'cy': 'welsh', 'xh': 'xhosa', 'yi': 'yiddish', 'yo': 'yoruba', 'zu': 'zulu'}\n"
     ]
    }
   ],
   "source": [
    "# Checking how many supported languages are available.\n",
    "\n",
    "from googletrans import LANGUAGES\n",
    "print(LANGUAGES)"
   ]
  },
  {
   "cell_type": "code",
   "execution_count": 14,
   "id": "49dbc0b7-d318-481a-a99d-52f01b5de9aa",
   "metadata": {},
   "outputs": [],
   "source": [
    "class TextTranslator:\n",
    "    def __init__(self, root):\n",
    "        self.translator = Translator()\n",
    "\n",
    "        # Create a dictionary with capitalized language names for display\n",
    "        self.lang_display = {lang.capitalize(): code for code, lang in LANGUAGES.items()}\n",
    "        self.lang_display[\"Auto-detect\"] = \"auto\"  # Add Auto-detect option\n",
    "\n",
    "        # Root window configuration\n",
    "        self.root = root\n",
    "        self.root.title(\"AI-Language Translator\")\n",
    "        self.root.geometry(\"700x600\")\n",
    "        self.root.resizable(False, False)\n",
    "        \n",
    "        # Set background color for root window\n",
    "        self.root.configure(bg=\"#f0f0f0\")\n",
    "\n",
    "        # Title Label\n",
    "        title_label = tk.Label(root, text=\"Language Translation Tool\", font=(\"Castellar\", 18, \"italic\", \"bold\"), bg=\"#f0f0f0\", fg=\"#4CAF50\")\n",
    "        title_label.pack(pady=12)\n",
    "\n",
    "        # Input Textbox\n",
    "        self.input_text = tk.Text(root, height=8, wrap=tk.WORD, font=(\"Helvetica\", 12), bd=2, relief=\"solid\", fg=\"#333\", bg=\"#fff\")\n",
    "        self.input_text.pack(pady=10, padx=10, fill=tk.BOTH, expand=True)\n",
    "\n",
    "        # Language Selection\n",
    "        lang_frame = tk.Frame(root, bg=\"#f0f0f0\")\n",
    "        lang_frame.pack(pady=10)\n",
    "\n",
    "        self.source_lang = ttk.Combobox(lang_frame, state=\"readonly\", values=list(self.lang_display.keys()), font=(\"Helvetica\", 12))\n",
    "        self.source_lang.set(\"Auto-detect\")\n",
    "        self.source_lang.pack(side=tk.LEFT, padx=10)\n",
    "\n",
    "        self.target_lang = ttk.Combobox(lang_frame, state=\"readonly\", values=list(self.lang_display.keys()), font=(\"Helvetica\", 12))\n",
    "        self.target_lang.set(\"English\")\n",
    "        self.target_lang.pack(side=tk.LEFT, padx=10)\n",
    "\n",
    "        # Translate Button\n",
    "        translate_button = tk.Button(root, text=\"Translate\", font=(\"Helvetica\", 12, \"bold\"), bg=\"#4CAF50\", fg=\"#fff\", command=self.translate_text)\n",
    "        translate_button.pack(pady=10)\n",
    "\n",
    "        # Output Textbox\n",
    "        self.output_text = tk.Text(root, height=8, wrap=tk.WORD, font=(\"Helvetica\", 12), bd=2, relief=\"solid\", fg=\"#333\", bg=\"#fff\")\n",
    "        self.output_text.pack(pady=10, padx=10, fill=tk.BOTH, expand=True)\n",
    "        self.output_text.config(state=tk.DISABLED)\n",
    "\n",
    "    def translate_text(self):\n",
    "        try:\n",
    "            # Map selected languages to their codes\n",
    "            source = self.lang_display[self.source_lang.get()]\n",
    "            target = self.lang_display[self.target_lang.get()]\n",
    "            text_to_translate = self.input_text.get(\"1.0\", tk.END).strip()\n",
    "\n",
    "            if not text_to_translate:\n",
    "                self.show_output(\"Please enter text to translate.\")\n",
    "                return\n",
    "\n",
    "            # Perform translation\n",
    "            translation = self.translator.translate(text_to_translate, src=source, dest=target)\n",
    "            self.show_output(translation.text)\n",
    "\n",
    "        except Exception as e:\n",
    "            self.show_output(f\"Some Error Occured: {e}\")\n",
    "\n",
    "    def show_output(self, text):\n",
    "        self.output_text.config(state=tk.NORMAL)\n",
    "        self.output_text.delete(\"1.0\", tk.END)\n",
    "        self.output_text.insert(tk.END, text)\n",
    "        self.output_text.config(state=tk.DISABLED)\n",
    "\n",
    "\n",
    "if __name__ == \"__main__\":\n",
    "    root = tk.Tk()\n",
    "    app = TextTranslator(root)\n",
    "    root.mainloop()\n"
   ]
  },
  {
   "cell_type": "code",
   "execution_count": null,
   "id": "efaea7dc-32d6-4e67-b654-f0d4da0574f5",
   "metadata": {},
   "outputs": [],
   "source": []
  }
 ],
 "metadata": {
  "kernelspec": {
   "display_name": "Python 3 (ipykernel)",
   "language": "python",
   "name": "python3"
  },
  "language_info": {
   "codemirror_mode": {
    "name": "ipython",
    "version": 3
   },
   "file_extension": ".py",
   "mimetype": "text/x-python",
   "name": "python",
   "nbconvert_exporter": "python",
   "pygments_lexer": "ipython3",
   "version": "3.11.5"
  }
 },
 "nbformat": 4,
 "nbformat_minor": 5
}
